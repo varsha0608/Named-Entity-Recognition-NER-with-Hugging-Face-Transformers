{
 "cells": [
  {
   "cell_type": "code",
   "execution_count": 1,
   "id": "644fd50f-6f7d-4911-a9b8-2b8e158603f2",
   "metadata": {},
   "outputs": [
    {
     "name": "stderr",
     "output_type": "stream",
     "text": [
      "C:\\Users\\Chandan D\\AppData\\Roaming\\Python\\Python312\\site-packages\\huggingface_hub\\file_download.py:1132: FutureWarning: `resume_download` is deprecated and will be removed in version 1.0.0. Downloads always resume when possible. If you want to force a new download, use `force_download=True`.\n",
      "  warnings.warn(\n"
     ]
    },
    {
     "data": {
      "application/vnd.jupyter.widget-view+json": {
       "model_id": "f9a780c7d9204b3dbc800392100369c1",
       "version_major": 2,
       "version_minor": 0
      },
      "text/plain": [
       "config.json:   0%|          | 0.00/998 [00:00<?, ?B/s]"
      ]
     },
     "metadata": {},
     "output_type": "display_data"
    },
    {
     "name": "stderr",
     "output_type": "stream",
     "text": [
      "C:\\Users\\Chandan D\\AppData\\Roaming\\Python\\Python312\\site-packages\\huggingface_hub\\file_download.py:157: UserWarning: `huggingface_hub` cache-system uses symlinks by default to efficiently store duplicated files but your machine does not support them in C:\\Users\\Chandan D\\.cache\\huggingface\\hub\\models--dbmdz--bert-large-cased-finetuned-conll03-english. Caching files will still work but in a degraded version that might require more space on your disk. This warning can be disabled by setting the `HF_HUB_DISABLE_SYMLINKS_WARNING` environment variable. For more details, see https://huggingface.co/docs/huggingface_hub/how-to-cache#limitations.\n",
      "To support symlinks on Windows, you either need to activate Developer Mode or to run Python as an administrator. In order to see activate developer mode, see this article: https://docs.microsoft.com/en-us/windows/apps/get-started/enable-your-device-for-development\n",
      "  warnings.warn(message)\n"
     ]
    },
    {
     "name": "stdout",
     "output_type": "stream",
     "text": [
      "WARNING:tensorflow:From C:\\Users\\Chandan D\\AppData\\Roaming\\Python\\Python312\\site-packages\\tf_keras\\src\\losses.py:2976: The name tf.losses.sparse_softmax_cross_entropy is deprecated. Please use tf.compat.v1.losses.sparse_softmax_cross_entropy instead.\n",
      "\n"
     ]
    },
    {
     "data": {
      "application/vnd.jupyter.widget-view+json": {
       "model_id": "b49ca2e7fe194a5486c1893815106eda",
       "version_major": 2,
       "version_minor": 0
      },
      "text/plain": [
       "model.safetensors:   0%|          | 0.00/1.33G [00:00<?, ?B/s]"
      ]
     },
     "metadata": {},
     "output_type": "display_data"
    },
    {
     "name": "stderr",
     "output_type": "stream",
     "text": [
      "Some weights of the model checkpoint at dbmdz/bert-large-cased-finetuned-conll03-english were not used when initializing BertForTokenClassification: ['bert.pooler.dense.bias', 'bert.pooler.dense.weight']\n",
      "- This IS expected if you are initializing BertForTokenClassification from the checkpoint of a model trained on another task or with another architecture (e.g. initializing a BertForSequenceClassification model from a BertForPreTraining model).\n",
      "- This IS NOT expected if you are initializing BertForTokenClassification from the checkpoint of a model that you expect to be exactly identical (initializing a BertForSequenceClassification model from a BertForSequenceClassification model).\n"
     ]
    },
    {
     "data": {
      "application/vnd.jupyter.widget-view+json": {
       "model_id": "eb37ad5f68e741b98520746d65b14052",
       "version_major": 2,
       "version_minor": 0
      },
      "text/plain": [
       "tokenizer_config.json:   0%|          | 0.00/60.0 [00:00<?, ?B/s]"
      ]
     },
     "metadata": {},
     "output_type": "display_data"
    },
    {
     "data": {
      "application/vnd.jupyter.widget-view+json": {
       "model_id": "7f554675aed0473596f9b6f19e8149aa",
       "version_major": 2,
       "version_minor": 0
      },
      "text/plain": [
       "vocab.txt:   0%|          | 0.00/213k [00:00<?, ?B/s]"
      ]
     },
     "metadata": {},
     "output_type": "display_data"
    },
    {
     "name": "stdout",
     "output_type": "stream",
     "text": [
      "Extracted Entities:\n",
      "Entity: Elon Musk, Type: PER, Score: 1.0\n",
      "Entity: SpaceX, Type: ORG, Score: 1.0\n",
      "Entity: Tesla, Type: ORG, Score: 1.0\n",
      "Entity: California, Type: LOC, Score: 1.0\n",
      "Entity: Starship, Type: MISC, Score: 0.8500000238418579\n",
      "\n",
      "Filtered Entities (Person):\n",
      "{'entity': 'Elon Musk', 'type': 'PER', 'score': 1.0}\n",
      "\n",
      "Filtered Entities (Organization):\n",
      "{'entity': 'SpaceX', 'type': 'ORG', 'score': 1.0}\n",
      "{'entity': 'Tesla', 'type': 'ORG', 'score': 1.0}\n"
     ]
    }
   ],
   "source": [
    "from transformers import pipeline\n",
    "import pandas as pd\n",
    "\n",
    "class NERExtractor:\n",
    "    def __init__(self, model_name=\"dbmdz/bert-large-cased-finetuned-conll03-english\"):\n",
    "        # Load the NER pipeline with the specified model\n",
    "        self.ner_pipeline = pipeline(\"ner\", model=model_name, aggregation_strategy=\"simple\")\n",
    "    \n",
    "    def extract_entities(self, text):\n",
    "        \"\"\"Extract named entities from the provided text.\"\"\"\n",
    "        return self.ner_pipeline(text)\n",
    "\n",
    "    def format_entities(self, entities):\n",
    "        \"\"\"Format extracted entities for easy integration into a knowledge graph.\"\"\"\n",
    "        formatted_entities = []\n",
    "        for entity in entities:\n",
    "            formatted_entities.append({\n",
    "                \"entity\": entity['word'],\n",
    "                \"type\": entity['entity_group'],\n",
    "                \"score\": round(entity['score'], 2)\n",
    "            })\n",
    "        return formatted_entities\n",
    "    \n",
    "    def filter_entities_by_type(self, entities, entity_type):\n",
    "        \"\"\"Filter entities by a specific type.\"\"\"\n",
    "        return [entity for entity in entities if entity['type'] == entity_type]\n",
    "\n",
    "def main():\n",
    "    # Sample text for NER\n",
    "    text = \"\"\"\n",
    "    Elon Musk is the CEO of SpaceX and Tesla, which are headquartered in California.\n",
    "    On October 1, 2023, he announced the launch of a new rocket named Starship.\n",
    "    \"\"\"\n",
    "    \n",
    "    # Initialize the NER extractor\n",
    "    ner_extractor = NERExtractor()\n",
    "\n",
    "    # Extract entities from the text\n",
    "    extracted_entities = ner_extractor.extract_entities(text)\n",
    "\n",
    "    # Format the extracted entities\n",
    "    formatted_entities = ner_extractor.format_entities(extracted_entities)\n",
    "\n",
    "    # Print all extracted entities\n",
    "    print(\"Extracted Entities:\")\n",
    "    for entity in formatted_entities:\n",
    "        print(f\"Entity: {entity['entity']}, Type: {entity['type']}, Score: {entity['score']}\")\n",
    "\n",
    "    # Example: Filter entities by type\n",
    "    print(\"\\nFiltered Entities (Person):\")\n",
    "    person_entities = ner_extractor.filter_entities_by_type(formatted_entities, \"PER\")\n",
    "    for entity in person_entities:\n",
    "        print(entity)\n",
    "\n",
    "    print(\"\\nFiltered Entities (Organization):\")\n",
    "    organization_entities = ner_extractor.filter_entities_by_type(formatted_entities, \"ORG\")\n",
    "    for entity in organization_entities:\n",
    "        print(entity)\n",
    "\n",
    "if __name__ == \"__main__\":\n",
    "    main()\n"
   ]
  },
  {
   "cell_type": "code",
   "execution_count": null,
   "id": "c43a2126-697c-4873-ac9a-1fc6eaa34596",
   "metadata": {},
   "outputs": [],
   "source": []
  }
 ],
 "metadata": {
  "kernelspec": {
   "display_name": "Python 3 (ipykernel)",
   "language": "python",
   "name": "python3"
  },
  "language_info": {
   "codemirror_mode": {
    "name": "ipython",
    "version": 3
   },
   "file_extension": ".py",
   "mimetype": "text/x-python",
   "name": "python",
   "nbconvert_exporter": "python",
   "pygments_lexer": "ipython3",
   "version": "3.12.4"
  }
 },
 "nbformat": 4,
 "nbformat_minor": 5
}
